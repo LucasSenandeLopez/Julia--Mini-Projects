version https://git-lfs.github.com/spec/v1
oid sha256:c8c7044042c7249afec9e59c73cdccbda790ccefbf4e226601102bdb9accfe88
size 102295433

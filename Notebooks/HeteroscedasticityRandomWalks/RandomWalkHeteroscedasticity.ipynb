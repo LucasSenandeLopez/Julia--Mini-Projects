version https://git-lfs.github.com/spec/v1
oid sha256:007f68c7a4a41f19a00ec2834876ea6a349bb0f3dcdd6d5df892af594334dac6
size 102291126

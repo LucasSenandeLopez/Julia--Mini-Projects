version https://git-lfs.github.com/spec/v1
oid sha256:e4c43da282aafd659b443633350956665c346b47eb7f7b8c6c7d4a48542aafc6
size 17477108

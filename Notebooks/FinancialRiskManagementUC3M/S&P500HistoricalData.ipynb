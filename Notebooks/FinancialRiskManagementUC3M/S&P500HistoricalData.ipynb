version https://git-lfs.github.com/spec/v1
oid sha256:53ae615db824780f6f98d94f078bb580539d3141aaeebe4e0949fe0b1a16a670
size 11823

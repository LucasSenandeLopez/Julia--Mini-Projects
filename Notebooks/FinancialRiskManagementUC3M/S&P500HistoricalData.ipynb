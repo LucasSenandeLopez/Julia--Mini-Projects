version https://git-lfs.github.com/spec/v1
oid sha256:cb97910827d58e4ffcf788cc362ebe66b9073de027ca177f00b0ae207861c4f3
size 1329086

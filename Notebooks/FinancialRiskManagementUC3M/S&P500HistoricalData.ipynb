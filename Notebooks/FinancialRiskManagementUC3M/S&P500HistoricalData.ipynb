version https://git-lfs.github.com/spec/v1
oid sha256:b239f6e43bd2751312975aec7ea5530c45289ba42b77371568944aa2d863fd48
size 11706
